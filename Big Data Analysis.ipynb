{
 "cells": [
  {
   "cell_type": "code",
   "execution_count": 1,
   "id": "c1d86bf9",
   "metadata": {},
   "outputs": [
    {
     "name": "stdout",
     "output_type": "stream",
     "text": [
      "Requirement already satisfied: pyspark in c:\\users\\khush\\anaconda3\\lib\\site-packages (3.5.4)\n",
      "Requirement already satisfied: dask in c:\\users\\khush\\anaconda3\\lib\\site-packages (2021.10.0)\n",
      "Requirement already satisfied: py4j==0.10.9.7 in c:\\users\\khush\\anaconda3\\lib\\site-packages (from pyspark) (0.10.9.7)\n",
      "Requirement already satisfied: cloudpickle>=1.1.1 in c:\\users\\khush\\anaconda3\\lib\\site-packages (from dask) (2.0.0)\n",
      "Requirement already satisfied: fsspec>=0.6.0 in c:\\users\\khush\\anaconda3\\lib\\site-packages (from dask) (2021.10.1)\n",
      "Requirement already satisfied: packaging>=20.0 in c:\\users\\khush\\anaconda3\\lib\\site-packages (from dask) (21.0)\n",
      "Requirement already satisfied: partd>=0.3.10 in c:\\users\\khush\\anaconda3\\lib\\site-packages (from dask) (1.2.0)\n",
      "Requirement already satisfied: pyyaml in c:\\users\\khush\\anaconda3\\lib\\site-packages (from dask) (6.0)\n",
      "Requirement already satisfied: toolz>=0.8.2 in c:\\users\\khush\\anaconda3\\lib\\site-packages (from dask) (0.11.1)\n",
      "Requirement already satisfied: pyparsing>=2.0.2 in c:\\users\\khush\\anaconda3\\lib\\site-packages (from packaging>=20.0->dask) (3.0.4)\n",
      "Requirement already satisfied: locket in c:\\users\\khush\\anaconda3\\lib\\site-packages\\locket-0.2.1-py3.9.egg (from partd>=0.3.10->dask) (0.2.1)\n",
      "Note: you may need to restart the kernel to use updated packages.\n"
     ]
    }
   ],
   "source": [
    "pip install pyspark dask"
   ]
  },
  {
   "cell_type": "code",
   "execution_count": 2,
   "id": "f0845a7e",
   "metadata": {},
   "outputs": [],
   "source": [
    "from pyspark.sql import SparkSession\n",
    "from pyspark.sql.functions import col, count, avg, when, isnull, sum"
   ]
  },
  {
   "cell_type": "code",
   "execution_count": 3,
   "id": "fdae34b0",
   "metadata": {},
   "outputs": [],
   "source": [
    "spark=SparkSession.builder.appName(\"Store Data Analysis\").getOrCreate()"
   ]
  },
  {
   "cell_type": "code",
   "execution_count": 4,
   "id": "ecd05f86",
   "metadata": {},
   "outputs": [],
   "source": [
    "df=spark.read.csv('store.csv',header=True,inferSchema=True)"
   ]
  },
  {
   "cell_type": "code",
   "execution_count": 5,
   "id": "af9119c1",
   "metadata": {},
   "outputs": [
    {
     "name": "stdout",
     "output_type": "stream",
     "text": [
      "+-----+---------+----------+-------------------+-------------------------+------------------------+------+---------------+---------------+----------------+\n",
      "|Store|StoreType|Assortment|CompetitionDistance|CompetitionOpenSinceMonth|CompetitionOpenSinceYear|Promo2|Promo2SinceWeek|Promo2SinceYear|   PromoInterval|\n",
      "+-----+---------+----------+-------------------+-------------------------+------------------------+------+---------------+---------------+----------------+\n",
      "|    1|        c|         a|               1270|                        9|                    2008|     0|           NULL|           NULL|            NULL|\n",
      "|    2|        a|         a|                570|                       11|                    2007|     1|             13|           2010| Jan,Apr,Jul,Oct|\n",
      "|    3|        a|         a|              14130|                       12|                    2006|     1|             14|           2011| Jan,Apr,Jul,Oct|\n",
      "|    4|        c|         c|                620|                        9|                    2009|     0|           NULL|           NULL|            NULL|\n",
      "|    5|        a|         a|              29910|                        4|                    2015|     0|           NULL|           NULL|            NULL|\n",
      "|    6|        a|         a|                310|                       12|                    2013|     0|           NULL|           NULL|            NULL|\n",
      "|    7|        a|         c|              24000|                        4|                    2013|     0|           NULL|           NULL|            NULL|\n",
      "|    8|        a|         a|               7520|                       10|                    2014|     0|           NULL|           NULL|            NULL|\n",
      "|    9|        a|         c|               2030|                        8|                    2000|     0|           NULL|           NULL|            NULL|\n",
      "|   10|        a|         a|               3160|                        9|                    2009|     0|           NULL|           NULL|            NULL|\n",
      "|   11|        a|         c|                960|                       11|                    2011|     1|              1|           2012| Jan,Apr,Jul,Oct|\n",
      "|   12|        a|         c|               1070|                     NULL|                    NULL|     1|             13|           2010| Jan,Apr,Jul,Oct|\n",
      "|   13|        d|         a|                310|                     NULL|                    NULL|     1|             45|           2009| Feb,May,Aug,Nov|\n",
      "|   14|        a|         a|               1300|                        3|                    2014|     1|             40|           2011| Jan,Apr,Jul,Oct|\n",
      "|   15|        d|         c|               4110|                        3|                    2010|     1|             14|           2011| Jan,Apr,Jul,Oct|\n",
      "|   16|        a|         c|               3270|                     NULL|                    NULL|     0|           NULL|           NULL|            NULL|\n",
      "|   17|        a|         a|                 50|                       12|                    2005|     1|             26|           2010| Jan,Apr,Jul,Oct|\n",
      "|   18|        d|         c|              13840|                        6|                    2010|     1|             14|           2012| Jan,Apr,Jul,Oct|\n",
      "|   19|        a|         c|               3240|                     NULL|                    NULL|     1|             22|           2011|Mar,Jun,Sept,Dec|\n",
      "|   20|        d|         a|               2340|                        5|                    2009|     1|             40|           2014| Jan,Apr,Jul,Oct|\n",
      "+-----+---------+----------+-------------------+-------------------------+------------------------+------+---------------+---------------+----------------+\n",
      "only showing top 20 rows\n",
      "\n"
     ]
    }
   ],
   "source": [
    "df.show()"
   ]
  },
  {
   "cell_type": "code",
   "execution_count": 6,
   "id": "835b07b9",
   "metadata": {},
   "outputs": [
    {
     "name": "stdout",
     "output_type": "stream",
     "text": [
      "root\n",
      " |-- Store: integer (nullable = true)\n",
      " |-- StoreType: string (nullable = true)\n",
      " |-- Assortment: string (nullable = true)\n",
      " |-- CompetitionDistance: integer (nullable = true)\n",
      " |-- CompetitionOpenSinceMonth: integer (nullable = true)\n",
      " |-- CompetitionOpenSinceYear: integer (nullable = true)\n",
      " |-- Promo2: integer (nullable = true)\n",
      " |-- Promo2SinceWeek: integer (nullable = true)\n",
      " |-- Promo2SinceYear: integer (nullable = true)\n",
      " |-- PromoInterval: string (nullable = true)\n",
      "\n"
     ]
    }
   ],
   "source": [
    "df.printSchema()"
   ]
  },
  {
   "cell_type": "code",
   "execution_count": 7,
   "id": "c3fb11de",
   "metadata": {},
   "outputs": [
    {
     "name": "stdout",
     "output_type": "stream",
     "text": [
      "Total rows: 1115\n"
     ]
    }
   ],
   "source": [
    "print(f\"Total rows:{df.count()}\")"
   ]
  },
  {
   "cell_type": "code",
   "execution_count": 19,
   "id": "d17529df",
   "metadata": {},
   "outputs": [],
   "source": [
    "df=df.fillna({\n",
    "    \"CompetitionDistance\": 0,\n",
    "    \"CompetitionOpenSinceMonth\": 1,\n",
    "    \"CompetitionOpenSinceYear\": 2000,\n",
    "    \"Promo2SinceWeek\": 0,\n",
    "    \"Promo2SinceYear\": 2000,\n",
    "    \"PromoInterval\": \"No Promo\"\n",
    "})"
   ]
  },
  {
   "cell_type": "code",
   "execution_count": 20,
   "id": "ebe8c0fc",
   "metadata": {},
   "outputs": [
    {
     "name": "stdout",
     "output_type": "stream",
     "text": [
      "+-------+-----------------+---------+----------+-------------------+-------------------------+------------------------+------------------+------------------+------------------+---------------+\n",
      "|summary|            Store|StoreType|Assortment|CompetitionDistance|CompetitionOpenSinceMonth|CompetitionOpenSinceYear|            Promo2|   Promo2SinceWeek|   Promo2SinceYear|  PromoInterval|\n",
      "+-------+-----------------+---------+----------+-------------------+-------------------------+------------------------+------------------+------------------+------------------+---------------+\n",
      "|  count|             1115|     1115|      1115|               1115|                     1115|                    1115|              1115|              1115|              1115|           1115|\n",
      "|   mean|            558.0|     NULL|      NULL|  5390.358744394619|        5.248430493273543|      2005.9165919282511|0.5121076233183857| 12.08340807174888|2006.0242152466367|           NULL|\n",
      "| stddev|322.0170802923348|     NULL|      NULL|  7657.973705331327|        3.929836241438966|       6.518392914232406|0.5000776843468315|15.542241134076283| 6.003465948988547|           NULL|\n",
      "|    min|                1|        a|         a|                  0|                        1|                    1900|                 0|                 0|              2000|Feb,May,Aug,Nov|\n",
      "|    max|             1115|        d|         c|              75860|                       12|                    2015|                 1|                50|              2015|       No Promo|\n",
      "+-------+-----------------+---------+----------+-------------------+-------------------------+------------------------+------------------+------------------+------------------+---------------+\n",
      "\n"
     ]
    }
   ],
   "source": [
    "df.describe().show()"
   ]
  },
  {
   "cell_type": "code",
   "execution_count": 21,
   "id": "a0236972",
   "metadata": {},
   "outputs": [],
   "source": [
    "null_count=df.select([count(when(isnull(c), c)).alias(c) for c in df.columns])"
   ]
  },
  {
   "cell_type": "code",
   "execution_count": 22,
   "id": "f3a7eda9",
   "metadata": {},
   "outputs": [
    {
     "name": "stdout",
     "output_type": "stream",
     "text": [
      "+-----+---------+----------+-------------------+-------------------------+------------------------+------+---------------+---------------+-------------+\n",
      "|Store|StoreType|Assortment|CompetitionDistance|CompetitionOpenSinceMonth|CompetitionOpenSinceYear|Promo2|Promo2SinceWeek|Promo2SinceYear|PromoInterval|\n",
      "+-----+---------+----------+-------------------+-------------------------+------------------------+------+---------------+---------------+-------------+\n",
      "|    0|        0|         0|                  0|                        0|                       0|     0|              0|              0|            0|\n",
      "+-----+---------+----------+-------------------+-------------------------+------------------------+------+---------------+---------------+-------------+\n",
      "\n"
     ]
    }
   ],
   "source": [
    "null_count.show()"
   ]
  },
  {
   "cell_type": "code",
   "execution_count": 23,
   "id": "ec70be1e",
   "metadata": {},
   "outputs": [
    {
     "name": "stdout",
     "output_type": "stream",
     "text": [
      "+---------+\n",
      "|StoreType|\n",
      "+---------+\n",
      "|        d|\n",
      "|        c|\n",
      "|        b|\n",
      "|        a|\n",
      "+---------+\n",
      "\n"
     ]
    }
   ],
   "source": [
    "df.select(\"StoreType\").distinct().show()"
   ]
  },
  {
   "cell_type": "code",
   "execution_count": 24,
   "id": "73fd4964",
   "metadata": {},
   "outputs": [
    {
     "name": "stdout",
     "output_type": "stream",
     "text": [
      "+---------+-----+\n",
      "|StoreType|count|\n",
      "+---------+-----+\n",
      "|        d|  348|\n",
      "|        c|  148|\n",
      "|        b|   17|\n",
      "|        a|  602|\n",
      "+---------+-----+\n",
      "\n"
     ]
    }
   ],
   "source": [
    "df.groupBy(\"StoreType\").count().show()"
   ]
  },
  {
   "cell_type": "code",
   "execution_count": 28,
   "id": "46df58f1",
   "metadata": {},
   "outputs": [
    {
     "name": "stdout",
     "output_type": "stream",
     "text": [
      "+---------+------------------+\n",
      "|StoreType|       AvgDistance|\n",
      "+---------+------------------+\n",
      "|        d| 6873.333333333333|\n",
      "|        c|3522.5675675675675|\n",
      "|        b|1060.5882352941176|\n",
      "|        a| 5114.551495016612|\n",
      "+---------+------------------+\n",
      "\n"
     ]
    }
   ],
   "source": [
    "df.groupBy(\"StoreType\").agg(avg(\"CompetitionDistance\").alias(\"AvgDistance\")).show()"
   ]
  },
  {
   "cell_type": "code",
   "execution_count": 29,
   "id": "3d410f65",
   "metadata": {},
   "outputs": [
    {
     "name": "stdout",
     "output_type": "stream",
     "text": [
      "+------+-----+\n",
      "|Promo2|count|\n",
      "+------+-----+\n",
      "|     1|  571|\n",
      "|     0|  544|\n",
      "+------+-----+\n",
      "\n"
     ]
    }
   ],
   "source": [
    "df.groupBy(\"Promo2\").count().show()"
   ]
  },
  {
   "cell_type": "code",
   "execution_count": 38,
   "id": "b4441b53",
   "metadata": {},
   "outputs": [
    {
     "name": "stdout",
     "output_type": "stream",
     "text": [
      "+---------+------------------+\n",
      "|StoreType|        TotalSales|\n",
      "+---------+------------------+\n",
      "|        d|1030703.3358680384|\n",
      "|        c| 432756.7425810383|\n",
      "|        b|  51152.9682510166|\n",
      "|        a|1843550.8146958286|\n",
      "+---------+------------------+\n",
      "\n"
     ]
    }
   ],
   "source": [
    "# Total sales by StoreType\n",
    "df.groupBy(\"StoreType\").agg(sum(\"Sales\").alias(\"TotalSales\")).show()"
   ]
  },
  {
   "cell_type": "code",
   "execution_count": 39,
   "id": "71ef9ffb",
   "metadata": {},
   "outputs": [
    {
     "name": "stdout",
     "output_type": "stream",
     "text": [
      "+-----+---------+----------+-------------------+-------------------------+------------------------+------+---------------+---------------+----------------+------------------+\n",
      "|Store|StoreType|Assortment|CompetitionDistance|CompetitionOpenSinceMonth|CompetitionOpenSinceYear|Promo2|Promo2SinceWeek|Promo2SinceYear|   PromoInterval|             Sales|\n",
      "+-----+---------+----------+-------------------+-------------------------+------------------------+------+---------------+---------------+----------------+------------------+\n",
      "|    1|        c|         a|               1270|                        9|                    2008|     0|              0|           2000|        No Promo|1188.4714625441188|\n",
      "|    2|        a|         a|                570|                       11|                    2007|     1|             13|           2010| Jan,Apr,Jul,Oct|1673.9394589541953|\n",
      "|    3|        a|         a|              14130|                       12|                    2006|     1|             14|           2011| Jan,Apr,Jul,Oct|1222.7935385113851|\n",
      "|    4|        c|         c|                620|                        9|                    2009|     0|              0|           2000|        No Promo| 4435.032331994734|\n",
      "|    5|        a|         a|              29910|                        4|                    2015|     0|              0|           2000|        No Promo| 1036.011605935387|\n",
      "|    6|        a|         a|                310|                       12|                    2013|     0|              0|           2000|        No Promo| 4006.876937036582|\n",
      "|    7|        a|         c|              24000|                        4|                    2013|     0|              0|           2000|        No Promo|2644.0593839110143|\n",
      "|    8|        a|         a|               7520|                       10|                    2014|     0|              0|           2000|        No Promo|3845.0236718123197|\n",
      "|    9|        a|         c|               2030|                        8|                    2000|     0|              0|           2000|        No Promo|1197.9274282547085|\n",
      "|   10|        a|         a|               3160|                        9|                    2009|     0|              0|           2000|        No Promo|1036.0801732474356|\n",
      "|   11|        a|         c|                960|                       11|                    2011|     1|              1|           2012| Jan,Apr,Jul,Oct|2449.0231393110516|\n",
      "|   12|        a|         c|               1070|                        1|                    2000|     1|             13|           2010| Jan,Apr,Jul,Oct| 4318.345645617426|\n",
      "|   13|        d|         a|                310|                        1|                    2000|     1|             45|           2009| Feb,May,Aug,Nov| 2046.914122528849|\n",
      "|   14|        a|         a|               1300|                        3|                    2014|     1|             40|           2011| Jan,Apr,Jul,Oct|3395.5465984179546|\n",
      "|   15|        d|         c|               4110|                        3|                    2010|     1|             14|           2011| Jan,Apr,Jul,Oct|1922.5922936273134|\n",
      "|   16|        a|         c|               3270|                        1|                    2000|     0|              0|           2000|        No Promo| 1699.871999641668|\n",
      "|   17|        a|         a|                 50|                       12|                    2005|     1|             26|           2010| Jan,Apr,Jul,Oct|2008.1802229784485|\n",
      "|   18|        d|         c|              13840|                        6|                    2010|     1|             14|           2012| Jan,Apr,Jul,Oct|3399.7601529265553|\n",
      "|   19|        a|         c|               3240|                        1|                    2000|     1|             22|           2011|Mar,Jun,Sept,Dec|4995.7820809960685|\n",
      "|   20|        d|         a|               2340|                        5|                    2009|     1|             40|           2014| Jan,Apr,Jul,Oct| 4032.329450700478|\n",
      "+-----+---------+----------+-------------------+-------------------------+------------------------+------+---------------+---------------+----------------+------------------+\n",
      "only showing top 20 rows\n",
      "\n"
     ]
    }
   ],
   "source": [
    "df.show()"
   ]
  },
  {
   "cell_type": "code",
   "execution_count": 46,
   "id": "6db9ca0d",
   "metadata": {},
   "outputs": [],
   "source": [
    "from pyspark.sql import functions as F"
   ]
  },
  {
   "cell_type": "code",
   "execution_count": 47,
   "id": "f41c2e9f",
   "metadata": {},
   "outputs": [],
   "source": [
    "df=df.withColumn(\"Sales\",(df[\"CompetitionDistance\"]/1000)*100 + \n",
    "                   (df[\"Promo2\"]*200) + \n",
    "                   (df[\"Assortment\"].cast(\"double\")*300))"
   ]
  },
  {
   "cell_type": "code",
   "execution_count": 48,
   "id": "40c66043",
   "metadata": {},
   "outputs": [
    {
     "name": "stdout",
     "output_type": "stream",
     "text": [
      "+---------+----------+\n",
      "|StoreType|TotalSales|\n",
      "+---------+----------+\n",
      "|        d|  279592.0|\n",
      "|        c|   67134.0|\n",
      "|        b|    2803.0|\n",
      "|        a|  365696.0|\n",
      "+---------+----------+\n",
      "\n"
     ]
    }
   ],
   "source": [
    "df.groupBy(\"StoreType\").agg(F.sum(\"Sales\").alias(\"TotalSales\")).show()"
   ]
  },
  {
   "cell_type": "code",
   "execution_count": 50,
   "id": "27018f11",
   "metadata": {},
   "outputs": [
    {
     "name": "stdout",
     "output_type": "stream",
     "text": [
      "+---------+------------------+\n",
      "|StoreType|             Sales|\n",
      "+---------+------------------+\n",
      "|        c|             127.0|\n",
      "|        a|             257.0|\n",
      "|        a|            1613.0|\n",
      "|        c|              62.0|\n",
      "|        a|            2991.0|\n",
      "|        a|              31.0|\n",
      "|        a|            2400.0|\n",
      "|        a|             752.0|\n",
      "|        a|202.99999999999997|\n",
      "|        a|             316.0|\n",
      "|        a|             296.0|\n",
      "|        a|             307.0|\n",
      "|        d|             231.0|\n",
      "|        a|             330.0|\n",
      "|        d|             611.0|\n",
      "|        a|             327.0|\n",
      "|        a|             205.0|\n",
      "|        d|            1584.0|\n",
      "|        a|             524.0|\n",
      "|        d|             434.0|\n",
      "+---------+------------------+\n",
      "only showing top 20 rows\n",
      "\n"
     ]
    }
   ],
   "source": [
    "df.select(\"StoreType\", \"Sales\").show()"
   ]
  },
  {
   "cell_type": "code",
   "execution_count": 71,
   "id": "aad4c85c",
   "metadata": {},
   "outputs": [],
   "source": [
    "import matplotlib.pyplot as plt "
   ]
  },
  {
   "cell_type": "code",
   "execution_count": 72,
   "id": "fe8c8da5",
   "metadata": {},
   "outputs": [],
   "source": [
    "store_types = ['d', 'c', 'b', 'a']\n",
    "total_sales = [279592.0, 67134.0, 2803.0, 365696.0]"
   ]
  },
  {
   "cell_type": "code",
   "execution_count": 75,
   "id": "4885bfc9",
   "metadata": {},
   "outputs": [
    {
     "data": {
      "image/png": "[encoded data removed]",
      "text/plain": [
       "<Figure size 576x576 with 1 Axes>"
      ]
     },
     "metadata": {},
     "output_type": "display_data"
    }
   ],
   "source": [
    "# Pie chart\n",
    "plt.figure(figsize=(8, 8))\n",
    "plt.pie(total_sales, labels=store_types,autopct='%1.1f%%',startangle=140,colors=['gold', 'lightblue','lightgreen','lightcoral'])\n",
    "\n",
    "# Title and additional customization\n",
    "plt.title('Sales Distribution by StoreType')\n",
    "plt.legend(store_types, title=\"Store Type\",loc=\"upper left\",bbox_to_anchor=(1,1))\n",
    "plt.show()"
   ]
  },
  {
   "cell_type": "code",
   "execution_count": 76,
   "id": "3c0bf8be",
   "metadata": {},
   "outputs": [
    {
     "name": "stdout",
     "output_type": "stream",
     "text": [
      "+-----+---------+----------+-------------------+-------------------------+------------------------+------+---------------+---------------+----------------+------------------+\n",
      "|Store|StoreType|Assortment|CompetitionDistance|CompetitionOpenSinceMonth|CompetitionOpenSinceYear|Promo2|Promo2SinceWeek|Promo2SinceYear|   PromoInterval|             Sales|\n",
      "+-----+---------+----------+-------------------+-------------------------+------------------------+------+---------------+---------------+----------------+------------------+\n",
      "|    1|        c|       0.0|               1270|                        9|                    2008|     0|              0|           2000|        No Promo|             127.0|\n",
      "|    2|        a|       0.0|                570|                       11|                    2007|     1|             13|           2010| Jan,Apr,Jul,Oct|             257.0|\n",
      "|    3|        a|       0.0|              14130|                       12|                    2006|     1|             14|           2011| Jan,Apr,Jul,Oct|            1613.0|\n",
      "|    4|        c|       0.0|                620|                        9|                    2009|     0|              0|           2000|        No Promo|              62.0|\n",
      "|    5|        a|       0.0|              29910|                        4|                    2015|     0|              0|           2000|        No Promo|            2991.0|\n",
      "|    6|        a|       0.0|                310|                       12|                    2013|     0|              0|           2000|        No Promo|              31.0|\n",
      "|    7|        a|       0.0|              24000|                        4|                    2013|     0|              0|           2000|        No Promo|            2400.0|\n",
      "|    8|        a|       0.0|               7520|                       10|                    2014|     0|              0|           2000|        No Promo|             752.0|\n",
      "|    9|        a|       0.0|               2030|                        8|                    2000|     0|              0|           2000|        No Promo|202.99999999999997|\n",
      "|   10|        a|       0.0|               3160|                        9|                    2009|     0|              0|           2000|        No Promo|             316.0|\n",
      "|   11|        a|       0.0|                960|                       11|                    2011|     1|              1|           2012| Jan,Apr,Jul,Oct|             296.0|\n",
      "|   12|        a|       0.0|               1070|                        1|                    2000|     1|             13|           2010| Jan,Apr,Jul,Oct|             307.0|\n",
      "|   13|        d|       0.0|                310|                        1|                    2000|     1|             45|           2009| Feb,May,Aug,Nov|             231.0|\n",
      "|   14|        a|       0.0|               1300|                        3|                    2014|     1|             40|           2011| Jan,Apr,Jul,Oct|             330.0|\n",
      "|   15|        d|       0.0|               4110|                        3|                    2010|     1|             14|           2011| Jan,Apr,Jul,Oct|             611.0|\n",
      "|   16|        a|       0.0|               3270|                        1|                    2000|     0|              0|           2000|        No Promo|             327.0|\n",
      "|   17|        a|       0.0|                 50|                       12|                    2005|     1|             26|           2010| Jan,Apr,Jul,Oct|             205.0|\n",
      "|   18|        d|       0.0|              13840|                        6|                    2010|     1|             14|           2012| Jan,Apr,Jul,Oct|            1584.0|\n",
      "|   19|        a|       0.0|               3240|                        1|                    2000|     1|             22|           2011|Mar,Jun,Sept,Dec|             524.0|\n",
      "|   20|        d|       0.0|               2340|                        5|                    2009|     1|             40|           2014| Jan,Apr,Jul,Oct|             434.0|\n",
      "+-----+---------+----------+-------------------+-------------------------+------------------------+------+---------------+---------------+----------------+------------------+\n",
      "only showing top 20 rows\n",
      "\n"
     ]
    }
   ],
   "source": [
    "df.show()"
   ]
  },
  {
   "cell_type": "code",
   "execution_count": null,
   "id": "d0b5cad6",
   "metadata": {},
   "outputs": [],
   "source": []
  }
 ],
 "metadata": {
  "kernelspec": {
   "display_name": "Python 3 (ipykernel)",
   "language": "python",
   "name": "python3"
  },
  "language_info": {
   "codemirror_mode": {
    "name": "ipython",
    "version": 3
   },
   "file_extension": ".py",
   "mimetype": "text/x-python",
   "name": "python",
   "nbconvert_exporter": "python",
   "pygments_lexer": "ipython3",
   "version": "3.9.7"
  }
 },
 "nbformat": 4,
 "nbformat_minor": 5
}
